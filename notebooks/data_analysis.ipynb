{
 "cells": [
  {
   "cell_type": "code",
   "execution_count": 1,
   "id": "bfbf6232",
   "metadata": {},
   "outputs": [
    {
     "name": "stderr",
     "output_type": "stream",
     "text": [
      "Matplotlib is building the font cache; this may take a moment.\n"
     ]
    },
    {
     "data": {
      "text/html": [
       "<div>\n",
       "<style scoped>\n",
       "    .dataframe tbody tr th:only-of-type {\n",
       "        vertical-align: middle;\n",
       "    }\n",
       "\n",
       "    .dataframe tbody tr th {\n",
       "        vertical-align: top;\n",
       "    }\n",
       "\n",
       "    .dataframe thead th {\n",
       "        text-align: right;\n",
       "    }\n",
       "</style>\n",
       "<table border=\"1\" class=\"dataframe\">\n",
       "  <thead>\n",
       "    <tr style=\"text-align: right;\">\n",
       "      <th></th>\n",
       "      <th>Project Type</th>\n",
       "      <th>Project Type Name</th>\n",
       "      <th>Budget Line</th>\n",
       "      <th>Budget Line Title</th>\n",
       "      <th>Funding Type</th>\n",
       "      <th>Fiscal Year</th>\n",
       "      <th>Amount</th>\n",
       "    </tr>\n",
       "  </thead>\n",
       "  <tbody>\n",
       "    <tr>\n",
       "      <th>0</th>\n",
       "      <td>AG</td>\n",
       "      <td>DEPARTMENT FOR THE AGING</td>\n",
       "      <td>AG 0001</td>\n",
       "      <td>IMPROVEMENTS TO PROPERTY USED BY DEPARTMENT FO...</td>\n",
       "      <td>C</td>\n",
       "      <td>2019</td>\n",
       "      <td>3306783.0</td>\n",
       "    </tr>\n",
       "    <tr>\n",
       "      <th>1</th>\n",
       "      <td>AG</td>\n",
       "      <td>DEPARTMENT FOR THE AGING</td>\n",
       "      <td>AG 0002</td>\n",
       "      <td>PURCHASE OF AUTOS, COMPUTERS, OTHER EQUIP FOR ...</td>\n",
       "      <td>C</td>\n",
       "      <td>2019</td>\n",
       "      <td>0.0</td>\n",
       "    </tr>\n",
       "    <tr>\n",
       "      <th>2</th>\n",
       "      <td>AG</td>\n",
       "      <td>DEPARTMENT FOR THE AGING</td>\n",
       "      <td>AG MN235</td>\n",
       "      <td>LENOX HILL NEIGHBORHOOD HOUSE, INC.</td>\n",
       "      <td>C</td>\n",
       "      <td>2019</td>\n",
       "      <td>50000.0</td>\n",
       "    </tr>\n",
       "    <tr>\n",
       "      <th>3</th>\n",
       "      <td>BR</td>\n",
       "      <td>WATERWAY BRIDGES</td>\n",
       "      <td>BR 0231</td>\n",
       "      <td>QUEENSBORO BRIDGE, REHABILITATION</td>\n",
       "      <td>C</td>\n",
       "      <td>2019</td>\n",
       "      <td>141151222.0</td>\n",
       "    </tr>\n",
       "    <tr>\n",
       "      <th>4</th>\n",
       "      <td>BR</td>\n",
       "      <td>WATERWAY BRIDGES</td>\n",
       "      <td>BR 0253</td>\n",
       "      <td>RECONSTRUCTION OF WILLIAMSBURG BRIDGE</td>\n",
       "      <td>C</td>\n",
       "      <td>2019</td>\n",
       "      <td>0.0</td>\n",
       "    </tr>\n",
       "  </tbody>\n",
       "</table>\n",
       "</div>"
      ],
      "text/plain": [
       "  Project Type         Project Type Name Budget Line  \\\n",
       "0           AG  DEPARTMENT FOR THE AGING     AG 0001   \n",
       "1           AG  DEPARTMENT FOR THE AGING     AG 0002   \n",
       "2           AG  DEPARTMENT FOR THE AGING    AG MN235   \n",
       "3           BR          WATERWAY BRIDGES     BR 0231   \n",
       "4           BR          WATERWAY BRIDGES     BR 0253   \n",
       "\n",
       "                                   Budget Line Title Funding Type  \\\n",
       "0  IMPROVEMENTS TO PROPERTY USED BY DEPARTMENT FO...            C   \n",
       "1  PURCHASE OF AUTOS, COMPUTERS, OTHER EQUIP FOR ...            C   \n",
       "2                LENOX HILL NEIGHBORHOOD HOUSE, INC.            C   \n",
       "3                  QUEENSBORO BRIDGE, REHABILITATION            C   \n",
       "4              RECONSTRUCTION OF WILLIAMSBURG BRIDGE            C   \n",
       "\n",
       "   Fiscal Year       Amount  \n",
       "0         2019    3306783.0  \n",
       "1         2019          0.0  \n",
       "2         2019      50000.0  \n",
       "3         2019  141151222.0  \n",
       "4         2019          0.0  "
      ]
     },
     "execution_count": 1,
     "metadata": {},
     "output_type": "execute_result"
    }
   ],
   "source": [
    "import pandas as pd\n",
    "import matplotlib.pyplot as plt\n",
    "\n",
    "pd.set_option('display.max_columns', None)\n",
    "\n",
    "df = pd.read_csv('../data/clean/projects_cleaned.csv')\n",
    "df.head()"
   ]
  },
  {
   "cell_type": "code",
   "execution_count": null,
   "id": "4362dd99",
   "metadata": {},
   "outputs": [],
   "source": [
    "df.info()"
   ]
  }
 ],
 "metadata": {
  "kernelspec": {
   "display_name": "venv",
   "language": "python",
   "name": "python3"
  },
  "language_info": {
   "codemirror_mode": {
    "name": "ipython",
    "version": 3
   },
   "file_extension": ".py",
   "mimetype": "text/x-python",
   "name": "python",
   "nbconvert_exporter": "python",
   "pygments_lexer": "ipython3",
   "version": "3.10.10"
  }
 },
 "nbformat": 4,
 "nbformat_minor": 5
}
