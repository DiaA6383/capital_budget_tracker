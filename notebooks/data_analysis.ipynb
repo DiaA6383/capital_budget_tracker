{
 "cells": [
  {
   "cell_type": "code",
   "execution_count": null,
   "id": "bfbf6232",
   "metadata": {},
   "outputs": [
    {
     "data": {
      "text/html": [
       "<div>\n",
       "<style scoped>\n",
       "    .dataframe tbody tr th:only-of-type {\n",
       "        vertical-align: middle;\n",
       "    }\n",
       "\n",
       "    .dataframe tbody tr th {\n",
       "        vertical-align: top;\n",
       "    }\n",
       "\n",
       "    .dataframe thead th {\n",
       "        text-align: right;\n",
       "    }\n",
       "</style>\n",
       "<table border=\"1\" class=\"dataframe\">\n",
       "  <thead>\n",
       "    <tr style=\"text-align: right;\">\n",
       "      <th></th>\n",
       "      <th>Project Type</th>\n",
       "      <th>Project Type Name</th>\n",
       "      <th>Budget Line</th>\n",
       "      <th>Budget Line Title</th>\n",
       "      <th>Funding Type</th>\n",
       "      <th>Fiscal Year</th>\n",
       "      <th>Amount</th>\n",
       "    </tr>\n",
       "  </thead>\n",
       "  <tbody>\n",
       "    <tr>\n",
       "      <th>0</th>\n",
       "      <td>AG</td>\n",
       "      <td>DEPARTMENT FOR THE AGING</td>\n",
       "      <td>AG 0001</td>\n",
       "      <td>IMPROVEMENTS TO PROPERTY USED BY DEPARTMENT FO...</td>\n",
       "      <td>C</td>\n",
       "      <td>2019</td>\n",
       "      <td>3306783.0</td>\n",
       "    </tr>\n",
       "    <tr>\n",
       "      <th>1</th>\n",
       "      <td>AG</td>\n",
       "      <td>DEPARTMENT FOR THE AGING</td>\n",
       "      <td>AG 0002</td>\n",
       "      <td>PURCHASE OF AUTOS, COMPUTERS, OTHER EQUIP FOR ...</td>\n",
       "      <td>C</td>\n",
       "      <td>2019</td>\n",
       "      <td>0.0</td>\n",
       "    </tr>\n",
       "    <tr>\n",
       "      <th>2</th>\n",
       "      <td>AG</td>\n",
       "      <td>DEPARTMENT FOR THE AGING</td>\n",
       "      <td>AG MN235</td>\n",
       "      <td>LENOX HILL NEIGHBORHOOD HOUSE, INC.</td>\n",
       "      <td>C</td>\n",
       "      <td>2019</td>\n",
       "      <td>50000.0</td>\n",
       "    </tr>\n",
       "    <tr>\n",
       "      <th>3</th>\n",
       "      <td>BR</td>\n",
       "      <td>WATERWAY BRIDGES</td>\n",
       "      <td>BR 0231</td>\n",
       "      <td>QUEENSBORO BRIDGE, REHABILITATION</td>\n",
       "      <td>C</td>\n",
       "      <td>2019</td>\n",
       "      <td>141151222.0</td>\n",
       "    </tr>\n",
       "    <tr>\n",
       "      <th>4</th>\n",
       "      <td>BR</td>\n",
       "      <td>WATERWAY BRIDGES</td>\n",
       "      <td>BR 0253</td>\n",
       "      <td>RECONSTRUCTION OF WILLIAMSBURG BRIDGE</td>\n",
       "      <td>C</td>\n",
       "      <td>2019</td>\n",
       "      <td>0.0</td>\n",
       "    </tr>\n",
       "  </tbody>\n",
       "</table>\n",
       "</div>"
      ],
      "text/plain": [
       "  Project Type         Project Type Name Budget Line  \\\n",
       "0           AG  DEPARTMENT FOR THE AGING     AG 0001   \n",
       "1           AG  DEPARTMENT FOR THE AGING     AG 0002   \n",
       "2           AG  DEPARTMENT FOR THE AGING    AG MN235   \n",
       "3           BR          WATERWAY BRIDGES     BR 0231   \n",
       "4           BR          WATERWAY BRIDGES     BR 0253   \n",
       "\n",
       "                                   Budget Line Title Funding Type  \\\n",
       "0  IMPROVEMENTS TO PROPERTY USED BY DEPARTMENT FO...            C   \n",
       "1  PURCHASE OF AUTOS, COMPUTERS, OTHER EQUIP FOR ...            C   \n",
       "2                LENOX HILL NEIGHBORHOOD HOUSE, INC.            C   \n",
       "3                  QUEENSBORO BRIDGE, REHABILITATION            C   \n",
       "4              RECONSTRUCTION OF WILLIAMSBURG BRIDGE            C   \n",
       "\n",
       "   Fiscal Year       Amount  \n",
       "0         2019    3306783.0  \n",
       "1         2019          0.0  \n",
       "2         2019      50000.0  \n",
       "3         2019  141151222.0  \n",
       "4         2019          0.0  "
      ]
     },
     "execution_count": 1,
     "metadata": {},
     "output_type": "execute_result"
    }
   ],
   "source": [
    "import pandas as pd\n",
    "import matplotlib.pyplot as plt\n",
    "import squarify\n",
    "\n",
    "\n",
    "pd.set_option('display.max_columns', None)\n",
    "\n",
    "df = pd.read_csv('../data/clean/projects_cleaned.csv')\n",
    "df.head()"
   ]
  },
  {
   "cell_type": "code",
   "execution_count": 2,
   "id": "4362dd99",
   "metadata": {},
   "outputs": [
    {
     "name": "stdout",
     "output_type": "stream",
     "text": [
      "<class 'pandas.core.frame.DataFrame'>\n",
      "RangeIndex: 58848 entries, 0 to 58847\n",
      "Data columns (total 7 columns):\n",
      " #   Column             Non-Null Count  Dtype  \n",
      "---  ------             --------------  -----  \n",
      " 0   Project Type       58848 non-null  object \n",
      " 1   Project Type Name  58848 non-null  object \n",
      " 2   Budget Line        58848 non-null  object \n",
      " 3   Budget Line Title  58788 non-null  object \n",
      " 4   Funding Type       58848 non-null  object \n",
      " 5   Fiscal Year        58848 non-null  int64  \n",
      " 6   Amount             58848 non-null  float64\n",
      "dtypes: float64(1), int64(1), object(5)\n",
      "memory usage: 3.1+ MB\n",
      "Unique project types: 47\n"
     ]
    }
   ],
   "source": [
    "df.info()\n",
    "df.describe()\n",
    "print(\"Unique project types:\", df['Project Type'].nunique())\n"
   ]
  },
  {
   "cell_type": "code",
   "execution_count": 3,
   "id": "c2e3612f",
   "metadata": {},
   "outputs": [
    {
     "ename": "SyntaxError",
     "evalue": "invalid decimal literal (2949906403.py, line 14)",
     "output_type": "error",
     "traceback": [
      "\u001b[0;36m  Cell \u001b[0;32mIn[3], line 14\u001b[0;36m\u001b[0m\n\u001b[0;31m    else:2H\u001b[0m\n\u001b[0m         ^\u001b[0m\n\u001b[0;31mSyntaxError\u001b[0m\u001b[0;31m:\u001b[0m invalid decimal literal\n"
     ]
    }
   ],
   "source": [
    "dept_summary = df.groupby('Project Type Name')['Amount'].sum().reset_index().sort_values('Amount', ascending=False)\n",
    "dept_summary.head()\n",
    "\n",
    "year_summary = df.groupby('Fiscal Year')['Amount'].sum().reset_index().sort_values('Fiscal Year')\n",
    "year_summary\n",
    "\n",
    "dept_summary['Amount'] = pd.to_numeric(dept_summary['Amount'], errors='coerce')\n",
    "\n",
    "def format_amount(x):\n",
    "    if x >= 1e9:\n",
    "        return f\"${x/1e9:.2f} billion\"\n",
    "    elif x >= 1e6:\n",
    "        return f\"${x/1e6:.2f} million\"\n",
    "    else:2H\n",
    "        return f\"${x:,.0f}\"\n",
    "\n",
    "dept_summary['Formatted Amount'] = dept_summary['Amount'].apply(format_amount)\n",
    "dept_summary.head()"
   ]
  },
  {
   "cell_type": "code",
   "execution_count": null,
   "id": "b92aa552",
   "metadata": {},
   "outputs": [],
   "source": [
    "dept_summary.groupby(by=['Formatted Amount'])\n",
    "print(dept_summary) "
   ]
  },
  {
   "cell_type": "code",
   "execution_count": null,
   "id": "b767d909",
   "metadata": {},
   "outputs": [],
   "source": [
    "squarify.plot(sizes=dept_summary['Amount'], label=dept_summary['Project Type Name'])"
   ]
  },
  {
   "cell_type": "code",
   "execution_count": 4,
   "id": "10b6b7e9",
   "metadata": {},
   "outputs": [
    {
     "name": "stdout",
     "output_type": "stream",
     "text": [
      "Total Amount in Dataset: $1,474,361,340,481\n",
      "Number of Unique Projects: 1961\n"
     ]
    }
   ],
   "source": [
    "print(f\"Total Amount in Dataset: ${df['Amount'].sum():,.0f}\")\n",
    "print(f\"Number of Unique Projects: {df['Budget Line'].nunique()}\")"
   ]
  }
 ],
 "metadata": {
  "kernelspec": {
   "display_name": "venv",
   "language": "python",
   "name": "python3"
  },
  "language_info": {
   "codemirror_mode": {
    "name": "ipython",
    "version": 3
   },
   "file_extension": ".py",
   "mimetype": "text/x-python",
   "name": "python",
   "nbconvert_exporter": "python",
   "pygments_lexer": "ipython3",
   "version": "3.10.10"
  }
 },
 "nbformat": 4,
 "nbformat_minor": 5
}
