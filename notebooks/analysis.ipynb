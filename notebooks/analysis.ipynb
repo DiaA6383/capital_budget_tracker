{
 "cells": [
  {
   "cell_type": "markdown",
   "id": "8d4d26a2",
   "metadata": {},
   "source": [
    "Importing Pandas"
   ]
  },
  {
   "cell_type": "code",
   "execution_count": 82,
   "id": "55155355",
   "metadata": {},
   "outputs": [],
   "source": [
    "import pandas as pd"
   ]
  },
  {
   "cell_type": "code",
   "execution_count": 83,
   "id": "7c739882",
   "metadata": {},
   "outputs": [
    {
     "name": "stdout",
     "output_type": "stream",
     "text": [
      "   Published Date Project Type         Project Type Name Budget Line  \\\n",
      "0        20180201           AG  DEPARTMENT FOR THE AGING     AG 0001   \n",
      "1        20180201           AG  DEPARTMENT FOR THE AGING     AG 0002   \n",
      "2        20180201           AG  DEPARTMENT FOR THE AGING    AG MN235   \n",
      "3        20180201           BR          WATERWAY BRIDGES     BR 0231   \n",
      "4        20180201           BR          WATERWAY BRIDGES     BR 0253   \n",
      "\n",
      "                                   Budget Line Title Funding Type  \\\n",
      "0  IMPROVEMENTS TO PROPERTY USED BY DEPARTMENT FO...            C   \n",
      "1  PURCHASE OF AUTOS, COMPUTERS, OTHER EQUIP FOR ...            C   \n",
      "2                LENOX HILL NEIGHBORHOOD HOUSE, INC.            C   \n",
      "3                  QUEENSBORO BRIDGE, REHABILITATION            C   \n",
      "4              RECONSTRUCTION OF WILLIAMSBURG BRIDGE            C   \n",
      "\n",
      "   First Fiscal Year Fiscal Year 1 Amount Fiscal Year 2 Amount  \\\n",
      "0               2019            3,306,783            3,479,000   \n",
      "1               2019                    0            2,342,111   \n",
      "2               2019               50,000                    0   \n",
      "3               2019          141,151,222                    0   \n",
      "4               2019                    0                    0   \n",
      "\n",
      "  Fiscal Year 3 Amount Fiscal Year 4 Amount  \n",
      "0            2,178,000            1,253,000  \n",
      "1            1,403,000                    0  \n",
      "2                    0                    0  \n",
      "3                    0                    0  \n",
      "4          273,760,919                    0  \n"
     ]
    }
   ],
   "source": [
    "# Load dataset using the correct function for CSV files\n",
    "df_raw = pd.read_csv(\"../data/raw/projects_raw.csv\")\n",
    "\n",
    "print(df_raw.head())\n"
   ]
  },
  {
   "cell_type": "code",
   "execution_count": 84,
   "id": "fa2ebb08",
   "metadata": {},
   "outputs": [],
   "source": [
    "df_raw.columns = (\n",
    "    df_raw.columns\n",
    "    .str.strip()\n",
    "    .str.lower()\n",
    "    .str.replace(\" \", \"_\")\n",
    ")"
   ]
  },
  {
   "cell_type": "code",
   "execution_count": 85,
   "id": "cc3b3955",
   "metadata": {},
   "outputs": [],
   "source": [
    "df_long = df_raw.melt(\n",
    "    id_vars=[\n",
    "        \"project_type\",\n",
    "        \"project_type_name\",\n",
    "        \"budget_line\",\n",
    "        \"budget_line_title\",\n",
    "        \"funding_type\",\n",
    "        \"first_fiscal_year\"\n",
    "    ],\n",
    "    value_vars=[\n",
    "        \"fiscal_year_1_amount\",\n",
    "        \"fiscal_year_2_amount\",\n",
    "        \"fiscal_year_3_amount\",\n",
    "        \"fiscal_year_4_amount\"\n",
    "    ],\n",
    "    var_name=\"fiscal_year\",\n",
    "    value_name=\"amount\"\n",
    ")"
   ]
  },
  {
   "cell_type": "code",
   "execution_count": 86,
   "id": "fbf4f65d",
   "metadata": {},
   "outputs": [],
   "source": [
    "year_map = {\n",
    "    \"fiscal_year_1_amount\": 0,\n",
    "    \"fiscal_year_2_amount\": 1,\n",
    "    \"fiscal_year_3_amount\": 2,\n",
    "    \"fiscal_year_4_amount\": 3\n",
    "}\n",
    "\n",
    "df_long[\"fiscal_year\"] = (\n",
    "    df_long[\"first_fiscal_year\"] + df_long[\"fiscal_year\"].map(year_map)\n",
    ")\n"
   ]
  },
  {
   "cell_type": "code",
   "execution_count": 87,
   "id": "37022f88",
   "metadata": {},
   "outputs": [
    {
     "name": "stdout",
     "output_type": "stream",
     "text": [
      "Total Capital Appropriations: $1,133,141,692,792\n",
      "Shiiiii and here I thought NYC was spending a trillion dollars every 4 years\n"
     ]
    }
   ],
   "source": [
    "df_long[\"amount\"] = (\n",
    "    df_long[\"amount\"]\n",
    "    .astype(str)\n",
    "    .str.replace(\",\", \"\")\n",
    "    .replace(\"nan\", \"0\")\n",
    "    .astype(float)\n",
    ")\n",
    "df_long = df_long.drop_duplicates()\n",
    "\n",
    "\n",
    "df_long.head()\n",
    "\n",
    "total = df_long[\"amount\"].sum()\n",
    "print(f\"Total Capital Appropriations: ${total:,.0f}\")\n",
    "\n",
    "print(\"Shiiiii and here I thought NYC was spending a trillion dollars every 4 years\")\n"
   ]
  },
  {
   "cell_type": "code",
   "execution_count": 88,
   "id": "9bf102e4",
   "metadata": {},
   "outputs": [
    {
     "name": "stdout",
     "output_type": "stream",
     "text": [
      "🗓️ Data spans from fiscal year 2019 to 2029.\n"
     ]
    }
   ],
   "source": [
    "min_year = df_long[\"first_fiscal_year\"].min()\n",
    "max_year = df_long[\"fiscal_year\"].max()\n",
    "\n",
    "print(f\"🗓️ Data spans from fiscal year {min_year} to {max_year}.\")\n"
   ]
  },
  {
   "cell_type": "code",
   "execution_count": null,
   "id": "659849bd",
   "metadata": {},
   "outputs": [],
   "source": [
    "#How much total funding is planned for the next 10 years\n",
    "\n",
    "df_long.head()"
   ]
  },
  {
   "cell_type": "code",
   "execution_count": 89,
   "id": "761ee4b2",
   "metadata": {},
   "outputs": [],
   "source": [
    "df_long.to_csv(\"../data/clean/projects_cleaned.csv\", index=False)"
   ]
  }
 ],
 "metadata": {
  "kernelspec": {
   "display_name": "venv",
   "language": "python",
   "name": "python3"
  },
  "language_info": {
   "codemirror_mode": {
    "name": "ipython",
    "version": 3
   },
   "file_extension": ".py",
   "mimetype": "text/x-python",
   "name": "python",
   "nbconvert_exporter": "python",
   "pygments_lexer": "ipython3",
   "version": "3.10.10"
  }
 },
 "nbformat": 4,
 "nbformat_minor": 5
}
