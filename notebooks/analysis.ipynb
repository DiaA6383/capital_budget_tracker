{
 "cells": [
  {
   "cell_type": "code",
   "execution_count": 10,
   "id": "7c739882",
   "metadata": {},
   "outputs": [
    {
     "name": "stdout",
     "output_type": "stream",
     "text": [
      "(13, 5)\n",
      "                                      Capital Budget         Unnamed: 1  \\\n",
      "0  This dataset contains capital appropriation da...                NaN   \n",
      "1                                         FIELD NAME       DISPLAY NAME   \n",
      "2                                           Pub_Date     Published Date   \n",
      "3                                           PROJTYPE       Project Type   \n",
      "4                                      PROJTYPE_NAME  Project Type Name   \n",
      "\n",
      "  Unnamed: 2                                Unnamed: 3 Unnamed: 4  \n",
      "0        NaN                                       NaN        NaN  \n",
      "1  DATA TYPE                               DESCRIPTION   COMMENTS  \n",
      "2        NaN                      Date data published         NaN  \n",
      "3        NaN  Identifier derived from the Budget Line         NaN  \n",
      "4        NaN                Agency or Department Name         NaN  \n"
     ]
    }
   ],
   "source": [
    "import pandas as pd\n",
    "\n",
    "# Load dataset using pd.read_excel instead of pd.read_csv\n",
    "try:\n",
    "    df = pd.read_excel(\"../data/projects.xlsx\", engine='openpyxl')\n",
    "\n",
    "    # Peek at it\n",
    "    print(df.shape)\n",
    "    print(df.head())\n",
    "\n",
    "except FileNotFoundError:\n",
    "    print(\"Error: The file 'projects.xlsx' was not found at the specified path.\")\n",
    "except ImportError:\n",
    "    print(\"Error: The 'openpyxl' engine is required to read .xlsx files.\")\n",
    "    print(\"Please install it with: pip install openpyxl\")\n",
    "except Exception as e:\n",
    "    print(f\"An unexpected error occurred: {e}\")"
   ]
  }
 ],
 "metadata": {
  "kernelspec": {
   "display_name": "venv",
   "language": "python",
   "name": "python3"
  },
  "language_info": {
   "codemirror_mode": {
    "name": "ipython",
    "version": 3
   },
   "file_extension": ".py",
   "mimetype": "text/x-python",
   "name": "python",
   "nbconvert_exporter": "python",
   "pygments_lexer": "ipython3",
   "version": "3.10.10"
  }
 },
 "nbformat": 4,
 "nbformat_minor": 5
}
